{
  "nbformat": 4,
  "nbformat_minor": 0,
  "metadata": {
    "colab": {
      "name": "Assignemnt-1, Practical-2.ipynb",
      "provenance": []
    },
    "kernelspec": {
      "name": "python3",
      "display_name": "Python 3"
    }
  },
  "cells": [
    {
      "cell_type": "code",
      "metadata": {
        "id": "jXAgZeR7WtWm",
        "colab_type": "code",
        "colab": {}
      },
      "source": [
        "#Practical-2:There are two Input files are available to you named Input1.txt and Input2.txt.\n",
        "#There are 5 numbers written in each file\n",
        "#Read content from both files, perform addition on numbers\n",
        "#And write it in file name Output.txt\n",
        "\n",
        "#Oening files for writing content in it\n",
        "file1 = open(\"Input1.txt\",\"w\")\n",
        "file2 = open(\"Input2.txt\",\"w\")\n",
        "file1.write(\"12\\n13\\n14\\n15\\n16\\n\")\n",
        "file2.write(\"220\\n23\\n02\\n25\\n260\")\n",
        "#Closing files\n",
        "file1.close()\n",
        "file2.close()\n",
        "\n",
        "#Opening Output file in \"a\" mode and Input1 and Input2 in \"r\" mode\n",
        "file3 = open(\"Output.txt\",\"w\")\n",
        "file1 = open(\"Input1.txt\",\"r\")\n",
        "file2 = open(\"Input2.txt\",\"r\")\n",
        "\n",
        "#performing addition of 5 data of both the fiel and writig back in Output file\n",
        "f1_output = int(file1.readline())\n",
        "f2_output = int(file2.readline())\n",
        "f3_output = f1_output + f2_output\n",
        "file3.write(str(f3_output))\n",
        "file3.write(\"\\n\")\n",
        "\n",
        "f1_output = int(file1.readline())\n",
        "f2_output = int(file2.readline())\n",
        "f3_output = f1_output + f2_output\n",
        "file3.write(str(f3_output))\n",
        "file3.write(\"\\n\")\n",
        "\n",
        "f1_output = int(file1.readline())\n",
        "f2_output = int(file2.readline())\n",
        "f3_output = f1_output + f2_output\n",
        "file3.write(str(f3_output))\n",
        "file3.write(\"\\n\")\n",
        "\n",
        "f1_output = int(file1.readline())\n",
        "f2_output = int(file2.readline())\n",
        "f3_output = f1_output + f2_output\n",
        "file3.write(str(f3_output))\n",
        "file3.write(\"\\n\")\n",
        "\n",
        "f1_output = int(file1.readline())\n",
        "f2_output = int(file2.readline())\n",
        "f3_output = f1_output + f2_output\n",
        "file3.write(str(f3_output))\n",
        "file3.write(\"\\n\")\n",
        "\n",
        "#Closing Files\n",
        "file1.close()\n",
        "file2.close()\n",
        "file3.close()"
      ],
      "execution_count": 0,
      "outputs": []
    }
  ]
}