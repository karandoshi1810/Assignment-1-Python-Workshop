{
  "nbformat": 4,
  "nbformat_minor": 0,
  "metadata": {
    "colab": {
      "name": "Assignment-1 Practical-1.ipynb",
      "provenance": []
    },
    "kernelspec": {
      "name": "python3",
      "display_name": "Python 3"
    }
  },
  "cells": [
    {
      "cell_type": "code",
      "metadata": {
        "id": "NXsFsFlkXFqS",
        "colab_type": "code",
        "colab": {}
      },
      "source": [
        "#Practical-1: There are two Input files are available to you named Input1.txt and Input2.txt.\n",
        "#Read content from both files write in file Output.txt\n",
        "\n",
        "#Writing values in file\n",
        "file1 = open(\"Input1.txt\",\"w\")\n",
        "file2 = open(\"Input2.txt\",\"w\")\n",
        "file1.write(\"ABCD\\nEDG\\nF\\nRT\\n\")\n",
        "file2.write(\"PQR\\nXYZ\\n\")\n",
        "#Closing Files\n",
        "file1.close()\n",
        "file2.close()\n",
        "\n",
        "#Opening output file ain apprnd mode and Input1 and Input2 in read mode\n",
        "file3 = open(\"Output.txt\",\"a\")\n",
        "file1 = open(\"Input1.txt\",\"r\")\n",
        "file2 = open(\"Input2.txt\",\"r\")\n",
        "#copying data from Input1 and Input2\n",
        "f1_output = file1.read()\n",
        "f2_output = file2.read()\n",
        "#Writing data in Output\n",
        "file3.write(f1_output)\n",
        "file3.write(f2_output)\n",
        "#Closing all files\n",
        "file1.close()\n",
        "file2.close()\n",
        "file3.close()"
      ],
      "execution_count": 0,
      "outputs": []
    }
  ]
}